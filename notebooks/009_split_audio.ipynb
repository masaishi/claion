{
 "cells": [
  {
   "cell_type": "code",
   "execution_count": null,
   "metadata": {},
   "outputs": [
    {
     "name": "stdout",
     "output_type": "stream",
     "text": [
      "Sample rate: 48000 Hz\n",
      "Audio duration: 145.75 seconds\n",
      "Audio shape: torch.Size([1, 6996000])\n",
      "\n",
      "Processing audio in 0.5-second chunks:\n",
      "Chunk 1: 0.50 seconds, samples 0 to 23999\n",
      "  Saved as chunk_1.wav\n",
      "Chunk 2: 0.50 seconds, samples 24000 to 47999\n",
      "  Saved as chunk_2.wav\n",
      "Chunk 3: 0.50 seconds, samples 48000 to 71999\n",
      "  Saved as chunk_3.wav\n",
      "Chunk 4: 0.50 seconds, samples 72000 to 95999\n",
      "  Saved as chunk_4.wav\n",
      "Reached 2.0 seconds of processed audio. Stopping.\n",
      "\n",
      "Finished processing after 2.00 seconds of audio\n"
     ]
    }
   ],
   "source": [
    "import torchaudio\n",
    "import torch\n",
    "import os\n",
    "\n",
    "# Load the audio file\n",
    "audio_file = \"../data/inputs/original-demo-speech.wav\"\n",
    "waveform, sample_rate = torchaudio.load(audio_file)\n",
    "\n",
    "# Print some info about the loaded audio\n",
    "print(f\"Sample rate: {sample_rate} Hz\")\n",
    "print(f\"Audio duration: {waveform.shape[1] / sample_rate:.2f} seconds\")\n",
    "print(f\"Audio shape: {waveform.shape}\")\n",
    "\n",
    "# Define the chunk size (0.5 seconds)\n",
    "chunk_size = int(0.5 * sample_rate)\n",
    "\n",
    "# Create output directory if it doesn't exist\n",
    "output_dir = \"../data/outputs/split_audio\"\n",
    "os.makedirs(output_dir, exist_ok=True)\n",
    "\n",
    "# Initialize position and total processed\n",
    "position = 0\n",
    "total_processed = 0\n",
    "max_duration = 2.0  # Maximum duration to process in seconds\n",
    "max_samples = int(max_duration * sample_rate)\n",
    "\n",
    "# Process audio in chunks using a while loop\n",
    "print(\"\\nProcessing audio in 0.5-second chunks:\")\n",
    "while position < waveform.shape[1]:\n",
    "    # Extract the current chunk\n",
    "    end_pos = min(position + chunk_size, waveform.shape[1])\n",
    "    chunk = waveform[:, position:end_pos]\n",
    "    \n",
    "    # Calculate chunk duration\n",
    "    chunk_duration = chunk.shape[1] / sample_rate\n",
    "    \n",
    "    # Process the chunk\n",
    "    chunk_number = position // chunk_size + 1\n",
    "    print(f\"Chunk {chunk_number}: {chunk_duration:.2f} seconds, samples {position} to {end_pos-1}\")\n",
    "    \n",
    "    # Save the chunk to the output directory\n",
    "    chunk_filename = os.path.join(output_dir, f\"chunk_{chunk_number}.wav\")\n",
    "    torchaudio.save(chunk_filename, chunk, sample_rate)\n",
    "    print(f\"  Saved as {chunk_filename}\")\n",
    "    \n",
    "    # Update position for next iteration\n",
    "    position = end_pos\n",
    "    total_processed += chunk.shape[1]\n",
    "    \n",
    "    # Check if we've processed 2 seconds of audio; if so, break out of the loop\n",
    "    if total_processed >= max_samples:\n",
    "        print(f\"Reached {max_duration} seconds of processed audio. Stopping.\")\n",
    "        break\n",
    "\n",
    "print(f\"\\nFinished processing after {total_processed / sample_rate:.2f} seconds of audio\")\n",
    "print(f\"Split audio files saved to: {output_dir}\")"
   ]
  },
  {
   "cell_type": "code",
   "execution_count": 4,
   "metadata": {},
   "outputs": [
    {
     "data": {
      "text/plain": [
       "(torch.Size([1, 6996000]), 48000)"
      ]
     },
     "execution_count": 4,
     "metadata": {},
     "output_type": "execute_result"
    }
   ],
   "source": [
    "waveform.shape, sample_rate"
   ]
  },
  {
   "cell_type": "code",
   "execution_count": null,
   "metadata": {},
   "outputs": [],
   "source": []
  }
 ],
 "metadata": {
  "kernelspec": {
   "display_name": ".venv",
   "language": "python",
   "name": "python3"
  },
  "language_info": {
   "codemirror_mode": {
    "name": "ipython",
    "version": 3
   },
   "file_extension": ".py",
   "mimetype": "text/x-python",
   "name": "python",
   "nbconvert_exporter": "python",
   "pygments_lexer": "ipython3",
   "version": "3.12.7"
  }
 },
 "nbformat": 4,
 "nbformat_minor": 2
}
